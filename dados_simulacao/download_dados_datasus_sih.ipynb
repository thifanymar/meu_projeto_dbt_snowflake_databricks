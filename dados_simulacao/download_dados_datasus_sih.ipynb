{
  "nbformat": 4,
  "nbformat_minor": 0,
  "metadata": {
    "colab": {
      "provenance": []
    },
    "kernelspec": {
      "name": "python3",
      "display_name": "Python 3"
    },
    "language_info": {
      "name": "python"
    }
  },
  "cells": [
    {
      "cell_type": "code",
      "execution_count": null,
      "metadata": {
        "id": "usI8i1GZYxj0"
      },
      "outputs": [],
      "source": [
        "pip install pysus"
      ]
    },
    {
      "cell_type": "code",
      "source": [
        "from pysus.online_data.SIM import download"
      ],
      "metadata": {
        "id": "T-Vwa1ztY1O8"
      },
      "execution_count": null,
      "outputs": []
    },
    {
      "cell_type": "code",
      "source": [
        "from pysus.online_data.SIH import download\n",
        "\n",
        "arquivo = download('SP', 2023, 1, ['RD'])\n",
        "\n"
      ],
      "metadata": {
        "colab": {
          "base_uri": "https://localhost:8080/"
        },
        "id": "pZsewDFbY5rw",
        "outputId": "731ab4d1-a8ac-497c-81e2-bf99baf5f23c"
      },
      "execution_count": null,
      "outputs": [
        {
          "output_type": "stream",
          "name": "stderr",
          "text": [
            "16427028it [00:00, 21437445316.90it/s]\n"
          ]
        }
      ]
    },
    {
      "cell_type": "code",
      "source": [
        "from pysus import SIH\n",
        "sih = SIH().load() # Loads the files from DATASUS"
      ],
      "metadata": {
        "id": "CHCsNy-KZYTV"
      },
      "execution_count": null,
      "outputs": []
    },
    {
      "cell_type": "code",
      "source": [
        "sih.groups\n"
      ],
      "metadata": {
        "colab": {
          "base_uri": "https://localhost:8080/"
        },
        "id": "pzYi9NQccGmY",
        "outputId": "82e119d6-a484-4611-ef1b-82e611a7cdea"
      },
      "execution_count": null,
      "outputs": [
        {
          "output_type": "execute_result",
          "data": {
            "text/plain": [
              "{'RD': 'AIH Reduzida',\n",
              " 'RJ': 'AIH Rejeitada',\n",
              " 'ER': 'AIH Rejeitada com erro',\n",
              " 'SP': 'Serviços Profissionais',\n",
              " 'CH': 'Cadastro Hospitalar',\n",
              " 'CM': ''}"
            ]
          },
          "metadata": {},
          "execution_count": 5
        }
      ]
    },
    {
      "cell_type": "code",
      "source": [
        "sih.metadata\n"
      ],
      "metadata": {
        "colab": {
          "base_uri": "https://localhost:8080/"
        },
        "id": "SBelrh6PcFTv",
        "outputId": "bd497e21-03f6-4a07-fe23-4c6083243004"
      },
      "execution_count": null,
      "outputs": [
        {
          "output_type": "execute_result",
          "data": {
            "text/plain": [
              "{'long_name': 'Sistema de Informações Hospitalares',\n",
              " 'source': ('https://datasus.saude.gov.br/acesso-a-informacao/morbidade-hospitalar-do-sus-sih-sus/',\n",
              "  'https://datasus.saude.gov.br/acesso-a-informacao/producao-hospitalar-sih-sus/'),\n",
              " 'description': 'A finalidade do AIH (Sistema SIHSUS) é a de transcrever todos os atendimentos que provenientes de internações hospitalares que foram financiadas pelo SUS, e após o processamento, gerarem relatórios para os gestores que lhes possibilitem fazer os pagamentos dos estabelecimentos de saúde. Além disso, o nível Federal recebe mensalmente uma base de dados de todas as internações autorizadas (aprovadas ou não para pagamento) para que possam ser repassados às Secretarias de Saúde os valores de Produção de Média e Alta complexidade além dos valores de CNRAC, FAEC e de Hospitais Universitários – em suas variadas formas de contrato de gestão.'}"
            ]
          },
          "metadata": {},
          "execution_count": 6
        }
      ]
    },
    {
      "cell_type": "code",
      "source": [
        "sih.get_files(\"RD\", uf=\"SP\", year=2000)\n"
      ],
      "metadata": {
        "colab": {
          "base_uri": "https://localhost:8080/"
        },
        "id": "WlyMNE74cJLA",
        "outputId": "e7da252a-9e26-402e-edb8-d4942d89888d"
      },
      "execution_count": null,
      "outputs": [
        {
          "output_type": "execute_result",
          "data": {
            "text/plain": [
              "[RDSP0001.dbc,\n",
              " RDSP0002.dbc,\n",
              " RDSP0003.dbc,\n",
              " RDSP0004.dbc,\n",
              " RDSP0005.dbc,\n",
              " RDSP0006.dbc,\n",
              " RDSP0007.dbc,\n",
              " RDSP0008.dbc,\n",
              " RDSP0009.dbc,\n",
              " RDSP0010.dbc,\n",
              " RDSP0011.dbc,\n",
              " RDSP0012.dbc]"
            ]
          },
          "metadata": {},
          "execution_count": 7
        }
      ]
    },
    {
      "cell_type": "code",
      "source": [
        "files = sih.get_files(\"RD\", uf=\"SP\", year=2000, month=[1,2,3])\n",
        "files"
      ],
      "metadata": {
        "colab": {
          "base_uri": "https://localhost:8080/"
        },
        "id": "J-DgvxjncQW1",
        "outputId": "a4e15e0b-ba1e-4ddb-b450-d86725aa30d9"
      },
      "execution_count": null,
      "outputs": [
        {
          "output_type": "execute_result",
          "data": {
            "text/plain": [
              "[RDSP0001.dbc, RDSP0002.dbc, RDSP0003.dbc]"
            ]
          },
          "metadata": {},
          "execution_count": 8
        }
      ]
    },
    {
      "cell_type": "code",
      "source": [
        "sih.describe(files[0])\n"
      ],
      "metadata": {
        "colab": {
          "base_uri": "https://localhost:8080/"
        },
        "id": "qMRUSKcucTV-",
        "outputId": "06a998c8-ac76-4a6e-9402-22f10ea9ea30"
      },
      "execution_count": null,
      "outputs": [
        {
          "output_type": "execute_result",
          "data": {
            "text/plain": [
              "{'name': 'RDSP0001.dbc',\n",
              " 'group': 'AIH Reduzida',\n",
              " 'uf': 'São Paulo',\n",
              " 'month': 'Janeiro',\n",
              " 'year': 2000,\n",
              " 'size': '10.1 MB',\n",
              " 'last_update': '2013-10-31 01:14PM'}"
            ]
          },
          "metadata": {},
          "execution_count": 9
        }
      ]
    },
    {
      "cell_type": "code",
      "source": [
        "parquet = sih.download(files)[0]\n"
      ],
      "metadata": {
        "colab": {
          "base_uri": "https://localhost:8080/"
        },
        "id": "pfMUq9atcUPt",
        "outputId": "78420abb-f99a-41a7-e93c-863bf32a0b7d"
      },
      "execution_count": null,
      "outputs": [
        {
          "output_type": "stream",
          "name": "stderr",
          "text": [
            "RDSP0003.parquet: 100%|██████████| 340k/340k [00:19<00:00, 17.3kB/s]\n"
          ]
        }
      ]
    },
    {
      "cell_type": "code",
      "source": [
        "df = parquet.to_dataframe()\n"
      ],
      "metadata": {
        "id": "nDoXORlncY5g"
      },
      "execution_count": null,
      "outputs": []
    },
    {
      "cell_type": "code",
      "source": [
        "df.head()\n"
      ],
      "metadata": {
        "colab": {
          "base_uri": "https://localhost:8080/",
          "height": 236
        },
        "id": "vU0caiRwetFz",
        "outputId": "dcaf98cf-a65e-452a-b0e9-e8fc085bf8b7"
      },
      "execution_count": null,
      "outputs": [
        {
          "output_type": "execute_result",
          "data": {
            "text/plain": [
              "  UF_ZI ANO_CMPT MES_CMPT ESPEC        CGC_HOSP       N_AIH IDENT       CEP  \\\n",
              "0    35     2000       01    02  46523171000287  2179380830     1  06040090   \n",
              "1    35     2000       01    02  46523171000287  2179380841     1  06110000   \n",
              "2    35     2000       01    02  46523171000287  2179380852     1  06184080   \n",
              "3    35     2000       01    02  46523171000287  2179380863     1  06010020   \n",
              "4    35     2000       01    02  46523171000287  2179380874     1  06112010   \n",
              "\n",
              "  MUNIC_RES      NASC  ...  CAR_INT TOT_PT_SP CPF_AUT HOMONIMO NUM_FILHOS  \\\n",
              "0    353440  19631229  ...       05       719                           0   \n",
              "1    353440  19620609  ...       05       176                           0   \n",
              "2    353440  19781207  ...       05        36                           0   \n",
              "3    353440  19710106  ...       05       176                           0   \n",
              "4    353440  19710717  ...       05       158                           0   \n",
              "\n",
              "  INSTRU CID_NOTIF CONTRACEP1 CONTRACEP2 GESTRISCO  \n",
              "0      0                   00         00         0  \n",
              "1      0                   00         00         0  \n",
              "2      0                   00         00         0  \n",
              "3      0                   00         00         0  \n",
              "4      0                   00         00         0  \n",
              "\n",
              "[5 rows x 60 columns]"
            ],
            "text/html": [
              "\n",
              "  <div id=\"df-a866f82b-c9d2-4272-a756-12d9388ea58d\" class=\"colab-df-container\">\n",
              "    <div>\n",
              "<style scoped>\n",
              "    .dataframe tbody tr th:only-of-type {\n",
              "        vertical-align: middle;\n",
              "    }\n",
              "\n",
              "    .dataframe tbody tr th {\n",
              "        vertical-align: top;\n",
              "    }\n",
              "\n",
              "    .dataframe thead th {\n",
              "        text-align: right;\n",
              "    }\n",
              "</style>\n",
              "<table border=\"1\" class=\"dataframe\">\n",
              "  <thead>\n",
              "    <tr style=\"text-align: right;\">\n",
              "      <th></th>\n",
              "      <th>UF_ZI</th>\n",
              "      <th>ANO_CMPT</th>\n",
              "      <th>MES_CMPT</th>\n",
              "      <th>ESPEC</th>\n",
              "      <th>CGC_HOSP</th>\n",
              "      <th>N_AIH</th>\n",
              "      <th>IDENT</th>\n",
              "      <th>CEP</th>\n",
              "      <th>MUNIC_RES</th>\n",
              "      <th>NASC</th>\n",
              "      <th>...</th>\n",
              "      <th>CAR_INT</th>\n",
              "      <th>TOT_PT_SP</th>\n",
              "      <th>CPF_AUT</th>\n",
              "      <th>HOMONIMO</th>\n",
              "      <th>NUM_FILHOS</th>\n",
              "      <th>INSTRU</th>\n",
              "      <th>CID_NOTIF</th>\n",
              "      <th>CONTRACEP1</th>\n",
              "      <th>CONTRACEP2</th>\n",
              "      <th>GESTRISCO</th>\n",
              "    </tr>\n",
              "  </thead>\n",
              "  <tbody>\n",
              "    <tr>\n",
              "      <th>0</th>\n",
              "      <td>35</td>\n",
              "      <td>2000</td>\n",
              "      <td>01</td>\n",
              "      <td>02</td>\n",
              "      <td>46523171000287</td>\n",
              "      <td>2179380830</td>\n",
              "      <td>1</td>\n",
              "      <td>06040090</td>\n",
              "      <td>353440</td>\n",
              "      <td>19631229</td>\n",
              "      <td>...</td>\n",
              "      <td>05</td>\n",
              "      <td>719</td>\n",
              "      <td></td>\n",
              "      <td></td>\n",
              "      <td>0</td>\n",
              "      <td>0</td>\n",
              "      <td></td>\n",
              "      <td>00</td>\n",
              "      <td>00</td>\n",
              "      <td>0</td>\n",
              "    </tr>\n",
              "    <tr>\n",
              "      <th>1</th>\n",
              "      <td>35</td>\n",
              "      <td>2000</td>\n",
              "      <td>01</td>\n",
              "      <td>02</td>\n",
              "      <td>46523171000287</td>\n",
              "      <td>2179380841</td>\n",
              "      <td>1</td>\n",
              "      <td>06110000</td>\n",
              "      <td>353440</td>\n",
              "      <td>19620609</td>\n",
              "      <td>...</td>\n",
              "      <td>05</td>\n",
              "      <td>176</td>\n",
              "      <td></td>\n",
              "      <td></td>\n",
              "      <td>0</td>\n",
              "      <td>0</td>\n",
              "      <td></td>\n",
              "      <td>00</td>\n",
              "      <td>00</td>\n",
              "      <td>0</td>\n",
              "    </tr>\n",
              "    <tr>\n",
              "      <th>2</th>\n",
              "      <td>35</td>\n",
              "      <td>2000</td>\n",
              "      <td>01</td>\n",
              "      <td>02</td>\n",
              "      <td>46523171000287</td>\n",
              "      <td>2179380852</td>\n",
              "      <td>1</td>\n",
              "      <td>06184080</td>\n",
              "      <td>353440</td>\n",
              "      <td>19781207</td>\n",
              "      <td>...</td>\n",
              "      <td>05</td>\n",
              "      <td>36</td>\n",
              "      <td></td>\n",
              "      <td></td>\n",
              "      <td>0</td>\n",
              "      <td>0</td>\n",
              "      <td></td>\n",
              "      <td>00</td>\n",
              "      <td>00</td>\n",
              "      <td>0</td>\n",
              "    </tr>\n",
              "    <tr>\n",
              "      <th>3</th>\n",
              "      <td>35</td>\n",
              "      <td>2000</td>\n",
              "      <td>01</td>\n",
              "      <td>02</td>\n",
              "      <td>46523171000287</td>\n",
              "      <td>2179380863</td>\n",
              "      <td>1</td>\n",
              "      <td>06010020</td>\n",
              "      <td>353440</td>\n",
              "      <td>19710106</td>\n",
              "      <td>...</td>\n",
              "      <td>05</td>\n",
              "      <td>176</td>\n",
              "      <td></td>\n",
              "      <td></td>\n",
              "      <td>0</td>\n",
              "      <td>0</td>\n",
              "      <td></td>\n",
              "      <td>00</td>\n",
              "      <td>00</td>\n",
              "      <td>0</td>\n",
              "    </tr>\n",
              "    <tr>\n",
              "      <th>4</th>\n",
              "      <td>35</td>\n",
              "      <td>2000</td>\n",
              "      <td>01</td>\n",
              "      <td>02</td>\n",
              "      <td>46523171000287</td>\n",
              "      <td>2179380874</td>\n",
              "      <td>1</td>\n",
              "      <td>06112010</td>\n",
              "      <td>353440</td>\n",
              "      <td>19710717</td>\n",
              "      <td>...</td>\n",
              "      <td>05</td>\n",
              "      <td>158</td>\n",
              "      <td></td>\n",
              "      <td></td>\n",
              "      <td>0</td>\n",
              "      <td>0</td>\n",
              "      <td></td>\n",
              "      <td>00</td>\n",
              "      <td>00</td>\n",
              "      <td>0</td>\n",
              "    </tr>\n",
              "  </tbody>\n",
              "</table>\n",
              "<p>5 rows × 60 columns</p>\n",
              "</div>\n",
              "    <div class=\"colab-df-buttons\">\n",
              "\n",
              "  <div class=\"colab-df-container\">\n",
              "    <button class=\"colab-df-convert\" onclick=\"convertToInteractive('df-a866f82b-c9d2-4272-a756-12d9388ea58d')\"\n",
              "            title=\"Convert this dataframe to an interactive table.\"\n",
              "            style=\"display:none;\">\n",
              "\n",
              "  <svg xmlns=\"http://www.w3.org/2000/svg\" height=\"24px\" viewBox=\"0 -960 960 960\">\n",
              "    <path d=\"M120-120v-720h720v720H120Zm60-500h600v-160H180v160Zm220 220h160v-160H400v160Zm0 220h160v-160H400v160ZM180-400h160v-160H180v160Zm440 0h160v-160H620v160ZM180-180h160v-160H180v160Zm440 0h160v-160H620v160Z\"/>\n",
              "  </svg>\n",
              "    </button>\n",
              "\n",
              "  <style>\n",
              "    .colab-df-container {\n",
              "      display:flex;\n",
              "      gap: 12px;\n",
              "    }\n",
              "\n",
              "    .colab-df-convert {\n",
              "      background-color: #E8F0FE;\n",
              "      border: none;\n",
              "      border-radius: 50%;\n",
              "      cursor: pointer;\n",
              "      display: none;\n",
              "      fill: #1967D2;\n",
              "      height: 32px;\n",
              "      padding: 0 0 0 0;\n",
              "      width: 32px;\n",
              "    }\n",
              "\n",
              "    .colab-df-convert:hover {\n",
              "      background-color: #E2EBFA;\n",
              "      box-shadow: 0px 1px 2px rgba(60, 64, 67, 0.3), 0px 1px 3px 1px rgba(60, 64, 67, 0.15);\n",
              "      fill: #174EA6;\n",
              "    }\n",
              "\n",
              "    .colab-df-buttons div {\n",
              "      margin-bottom: 4px;\n",
              "    }\n",
              "\n",
              "    [theme=dark] .colab-df-convert {\n",
              "      background-color: #3B4455;\n",
              "      fill: #D2E3FC;\n",
              "    }\n",
              "\n",
              "    [theme=dark] .colab-df-convert:hover {\n",
              "      background-color: #434B5C;\n",
              "      box-shadow: 0px 1px 3px 1px rgba(0, 0, 0, 0.15);\n",
              "      filter: drop-shadow(0px 1px 2px rgba(0, 0, 0, 0.3));\n",
              "      fill: #FFFFFF;\n",
              "    }\n",
              "  </style>\n",
              "\n",
              "    <script>\n",
              "      const buttonEl =\n",
              "        document.querySelector('#df-a866f82b-c9d2-4272-a756-12d9388ea58d button.colab-df-convert');\n",
              "      buttonEl.style.display =\n",
              "        google.colab.kernel.accessAllowed ? 'block' : 'none';\n",
              "\n",
              "      async function convertToInteractive(key) {\n",
              "        const element = document.querySelector('#df-a866f82b-c9d2-4272-a756-12d9388ea58d');\n",
              "        const dataTable =\n",
              "          await google.colab.kernel.invokeFunction('convertToInteractive',\n",
              "                                                    [key], {});\n",
              "        if (!dataTable) return;\n",
              "\n",
              "        const docLinkHtml = 'Like what you see? Visit the ' +\n",
              "          '<a target=\"_blank\" href=https://colab.research.google.com/notebooks/data_table.ipynb>data table notebook</a>'\n",
              "          + ' to learn more about interactive tables.';\n",
              "        element.innerHTML = '';\n",
              "        dataTable['output_type'] = 'display_data';\n",
              "        await google.colab.output.renderOutput(dataTable, element);\n",
              "        const docLink = document.createElement('div');\n",
              "        docLink.innerHTML = docLinkHtml;\n",
              "        element.appendChild(docLink);\n",
              "      }\n",
              "    </script>\n",
              "  </div>\n",
              "\n",
              "\n",
              "    <div id=\"df-5796244e-abe5-440f-b2eb-60316c7cdb25\">\n",
              "      <button class=\"colab-df-quickchart\" onclick=\"quickchart('df-5796244e-abe5-440f-b2eb-60316c7cdb25')\"\n",
              "                title=\"Suggest charts\"\n",
              "                style=\"display:none;\">\n",
              "\n",
              "<svg xmlns=\"http://www.w3.org/2000/svg\" height=\"24px\"viewBox=\"0 0 24 24\"\n",
              "     width=\"24px\">\n",
              "    <g>\n",
              "        <path d=\"M19 3H5c-1.1 0-2 .9-2 2v14c0 1.1.9 2 2 2h14c1.1 0 2-.9 2-2V5c0-1.1-.9-2-2-2zM9 17H7v-7h2v7zm4 0h-2V7h2v10zm4 0h-2v-4h2v4z\"/>\n",
              "    </g>\n",
              "</svg>\n",
              "      </button>\n",
              "\n",
              "<style>\n",
              "  .colab-df-quickchart {\n",
              "      --bg-color: #E8F0FE;\n",
              "      --fill-color: #1967D2;\n",
              "      --hover-bg-color: #E2EBFA;\n",
              "      --hover-fill-color: #174EA6;\n",
              "      --disabled-fill-color: #AAA;\n",
              "      --disabled-bg-color: #DDD;\n",
              "  }\n",
              "\n",
              "  [theme=dark] .colab-df-quickchart {\n",
              "      --bg-color: #3B4455;\n",
              "      --fill-color: #D2E3FC;\n",
              "      --hover-bg-color: #434B5C;\n",
              "      --hover-fill-color: #FFFFFF;\n",
              "      --disabled-bg-color: #3B4455;\n",
              "      --disabled-fill-color: #666;\n",
              "  }\n",
              "\n",
              "  .colab-df-quickchart {\n",
              "    background-color: var(--bg-color);\n",
              "    border: none;\n",
              "    border-radius: 50%;\n",
              "    cursor: pointer;\n",
              "    display: none;\n",
              "    fill: var(--fill-color);\n",
              "    height: 32px;\n",
              "    padding: 0;\n",
              "    width: 32px;\n",
              "  }\n",
              "\n",
              "  .colab-df-quickchart:hover {\n",
              "    background-color: var(--hover-bg-color);\n",
              "    box-shadow: 0 1px 2px rgba(60, 64, 67, 0.3), 0 1px 3px 1px rgba(60, 64, 67, 0.15);\n",
              "    fill: var(--button-hover-fill-color);\n",
              "  }\n",
              "\n",
              "  .colab-df-quickchart-complete:disabled,\n",
              "  .colab-df-quickchart-complete:disabled:hover {\n",
              "    background-color: var(--disabled-bg-color);\n",
              "    fill: var(--disabled-fill-color);\n",
              "    box-shadow: none;\n",
              "  }\n",
              "\n",
              "  .colab-df-spinner {\n",
              "    border: 2px solid var(--fill-color);\n",
              "    border-color: transparent;\n",
              "    border-bottom-color: var(--fill-color);\n",
              "    animation:\n",
              "      spin 1s steps(1) infinite;\n",
              "  }\n",
              "\n",
              "  @keyframes spin {\n",
              "    0% {\n",
              "      border-color: transparent;\n",
              "      border-bottom-color: var(--fill-color);\n",
              "      border-left-color: var(--fill-color);\n",
              "    }\n",
              "    20% {\n",
              "      border-color: transparent;\n",
              "      border-left-color: var(--fill-color);\n",
              "      border-top-color: var(--fill-color);\n",
              "    }\n",
              "    30% {\n",
              "      border-color: transparent;\n",
              "      border-left-color: var(--fill-color);\n",
              "      border-top-color: var(--fill-color);\n",
              "      border-right-color: var(--fill-color);\n",
              "    }\n",
              "    40% {\n",
              "      border-color: transparent;\n",
              "      border-right-color: var(--fill-color);\n",
              "      border-top-color: var(--fill-color);\n",
              "    }\n",
              "    60% {\n",
              "      border-color: transparent;\n",
              "      border-right-color: var(--fill-color);\n",
              "    }\n",
              "    80% {\n",
              "      border-color: transparent;\n",
              "      border-right-color: var(--fill-color);\n",
              "      border-bottom-color: var(--fill-color);\n",
              "    }\n",
              "    90% {\n",
              "      border-color: transparent;\n",
              "      border-bottom-color: var(--fill-color);\n",
              "    }\n",
              "  }\n",
              "</style>\n",
              "\n",
              "      <script>\n",
              "        async function quickchart(key) {\n",
              "          const quickchartButtonEl =\n",
              "            document.querySelector('#' + key + ' button');\n",
              "          quickchartButtonEl.disabled = true;  // To prevent multiple clicks.\n",
              "          quickchartButtonEl.classList.add('colab-df-spinner');\n",
              "          try {\n",
              "            const charts = await google.colab.kernel.invokeFunction(\n",
              "                'suggestCharts', [key], {});\n",
              "          } catch (error) {\n",
              "            console.error('Error during call to suggestCharts:', error);\n",
              "          }\n",
              "          quickchartButtonEl.classList.remove('colab-df-spinner');\n",
              "          quickchartButtonEl.classList.add('colab-df-quickchart-complete');\n",
              "        }\n",
              "        (() => {\n",
              "          let quickchartButtonEl =\n",
              "            document.querySelector('#df-5796244e-abe5-440f-b2eb-60316c7cdb25 button');\n",
              "          quickchartButtonEl.style.display =\n",
              "            google.colab.kernel.accessAllowed ? 'block' : 'none';\n",
              "        })();\n",
              "      </script>\n",
              "    </div>\n",
              "\n",
              "    </div>\n",
              "  </div>\n"
            ],
            "application/vnd.google.colaboratory.intrinsic+json": {
              "type": "dataframe",
              "variable_name": "df"
            }
          },
          "metadata": {},
          "execution_count": 12
        }
      ]
    },
    {
      "cell_type": "code",
      "source": [
        "df.columns"
      ],
      "metadata": {
        "colab": {
          "base_uri": "https://localhost:8080/"
        },
        "id": "13EjCSN_evcl",
        "outputId": "58e107d8-6c4c-46be-d64c-1ae5fc7ceb44"
      },
      "execution_count": null,
      "outputs": [
        {
          "output_type": "execute_result",
          "data": {
            "text/plain": [
              "Index(['UF_ZI', 'ANO_CMPT', 'MES_CMPT', 'ESPEC', 'CGC_HOSP', 'N_AIH', 'IDENT',\n",
              "       'CEP', 'MUNIC_RES', 'NASC', 'SEXO', 'UTI_MES_IN', 'UTI_MES_AN',\n",
              "       'UTI_MES_AL', 'UTI_MES_TO', 'MARCA_UTI', 'UTI_INT_IN', 'UTI_INT_AN',\n",
              "       'UTI_INT_AL', 'UTI_INT_TO', 'PROC_REA', 'VAL_SH', 'VAL_SP', 'VAL_SADT',\n",
              "       'VAL_RN', 'VAL_ORTP', 'VAL_SANGUE', 'VAL_SADTSR', 'VAL_TRANSP',\n",
              "       'VAL_OBSANG', 'VAL_PED1AC', 'VAL_TOT', 'VAL_UTI', 'US_TOT', 'DT_INTER',\n",
              "       'DT_SAIDA', 'DIAG_PRINC', 'DIAG_SECUN', 'COBRANCA', 'NATUREZA',\n",
              "       'GESTAO', 'MUNIC_MOV', 'COD_IDADE', 'IDADE', 'DIAS_PERM', 'MORTE',\n",
              "       'COD_ARQ', 'CONT', 'NACIONAL', 'NUM_PROC', 'CAR_INT', 'TOT_PT_SP',\n",
              "       'CPF_AUT', 'HOMONIMO', 'NUM_FILHOS', 'INSTRU', 'CID_NOTIF',\n",
              "       'CONTRACEP1', 'CONTRACEP2', 'GESTRISCO'],\n",
              "      dtype='object')"
            ]
          },
          "metadata": {},
          "execution_count": 13
        }
      ]
    },
    {
      "cell_type": "code",
      "source": [
        "import pandas as pd\n",
        "\n",
        "df = df.head(5000)\n",
        "\n",
        "# Suponha que df seja seu DataFrame já carregado\n",
        "df.to_csv(\"saida.csv\", index=False)"
      ],
      "metadata": {
        "id": "GR5r8-crltZB"
      },
      "execution_count": null,
      "outputs": []
    },
    {
      "cell_type": "code",
      "source": [
        "df.info()"
      ],
      "metadata": {
        "colab": {
          "base_uri": "https://localhost:8080/"
        },
        "id": "vnOCYKtQrHcQ",
        "outputId": "1f126b1e-36b4-4bc1-ecbe-b2852e7f9fd9"
      },
      "execution_count": null,
      "outputs": [
        {
          "output_type": "stream",
          "name": "stdout",
          "text": [
            "<class 'pandas.core.frame.DataFrame'>\n",
            "RangeIndex: 193824 entries, 0 to 193823\n",
            "Data columns (total 60 columns):\n",
            " #   Column      Non-Null Count   Dtype \n",
            "---  ------      --------------   ----- \n",
            " 0   UF_ZI       193824 non-null  string\n",
            " 1   ANO_CMPT    193824 non-null  string\n",
            " 2   MES_CMPT    193824 non-null  string\n",
            " 3   ESPEC       193824 non-null  string\n",
            " 4   CGC_HOSP    193824 non-null  string\n",
            " 5   N_AIH       193824 non-null  string\n",
            " 6   IDENT       193824 non-null  string\n",
            " 7   CEP         193824 non-null  string\n",
            " 8   MUNIC_RES   193824 non-null  string\n",
            " 9   NASC        193824 non-null  string\n",
            " 10  SEXO        193824 non-null  Int64 \n",
            " 11  UTI_MES_IN  193824 non-null  string\n",
            " 12  UTI_MES_AN  193824 non-null  string\n",
            " 13  UTI_MES_AL  193824 non-null  string\n",
            " 14  UTI_MES_TO  193824 non-null  string\n",
            " 15  MARCA_UTI   193824 non-null  string\n",
            " 16  UTI_INT_IN  193824 non-null  string\n",
            " 17  UTI_INT_AN  193824 non-null  string\n",
            " 18  UTI_INT_AL  193824 non-null  string\n",
            " 19  UTI_INT_TO  193824 non-null  string\n",
            " 20  PROC_REA    193824 non-null  string\n",
            " 21  VAL_SH      193824 non-null  string\n",
            " 22  VAL_SP      193824 non-null  string\n",
            " 23  VAL_SADT    193824 non-null  string\n",
            " 24  VAL_RN      193824 non-null  string\n",
            " 25  VAL_ORTP    193824 non-null  string\n",
            " 26  VAL_SANGUE  193824 non-null  string\n",
            " 27  VAL_SADTSR  193824 non-null  string\n",
            " 28  VAL_TRANSP  193824 non-null  string\n",
            " 29  VAL_OBSANG  193824 non-null  string\n",
            " 30  VAL_PED1AC  193824 non-null  string\n",
            " 31  VAL_TOT     193824 non-null  string\n",
            " 32  VAL_UTI     193824 non-null  string\n",
            " 33  US_TOT      193824 non-null  string\n",
            " 34  DT_INTER    193824 non-null  string\n",
            " 35  DT_SAIDA    193824 non-null  string\n",
            " 36  DIAG_PRINC  193824 non-null  string\n",
            " 37  DIAG_SECUN  193824 non-null  string\n",
            " 38  COBRANCA    193824 non-null  string\n",
            " 39  NATUREZA    193824 non-null  string\n",
            " 40  GESTAO      193824 non-null  string\n",
            " 41  MUNIC_MOV   193824 non-null  string\n",
            " 42  COD_IDADE   193824 non-null  string\n",
            " 43  IDADE       193824 non-null  string\n",
            " 44  DIAS_PERM   193824 non-null  string\n",
            " 45  MORTE       193824 non-null  string\n",
            " 46  COD_ARQ     193824 non-null  string\n",
            " 47  CONT        193824 non-null  string\n",
            " 48  NACIONAL    193824 non-null  string\n",
            " 49  NUM_PROC    193824 non-null  string\n",
            " 50  CAR_INT     193824 non-null  string\n",
            " 51  TOT_PT_SP   193824 non-null  string\n",
            " 52  CPF_AUT     193824 non-null  string\n",
            " 53  HOMONIMO    193824 non-null  string\n",
            " 54  NUM_FILHOS  193824 non-null  string\n",
            " 55  INSTRU      193824 non-null  string\n",
            " 56  CID_NOTIF   193824 non-null  string\n",
            " 57  CONTRACEP1  193824 non-null  string\n",
            " 58  CONTRACEP2  193824 non-null  string\n",
            " 59  GESTRISCO   193824 non-null  string\n",
            "dtypes: Int64(1), string(59)\n",
            "memory usage: 88.9 MB\n"
          ]
        }
      ]
    },
    {
      "cell_type": "code",
      "source": [
        "from google.colab import files\n",
        "files.download(\"saida.csv\")"
      ],
      "metadata": {
        "colab": {
          "base_uri": "https://localhost:8080/",
          "height": 17
        },
        "id": "GaRWrqbzrZtG",
        "outputId": "184eec20-c4c8-46e7-a58d-974b9486828b"
      },
      "execution_count": null,
      "outputs": [
        {
          "output_type": "display_data",
          "data": {
            "text/plain": [
              "<IPython.core.display.Javascript object>"
            ],
            "application/javascript": [
              "\n",
              "    async function download(id, filename, size) {\n",
              "      if (!google.colab.kernel.accessAllowed) {\n",
              "        return;\n",
              "      }\n",
              "      const div = document.createElement('div');\n",
              "      const label = document.createElement('label');\n",
              "      label.textContent = `Downloading \"${filename}\": `;\n",
              "      div.appendChild(label);\n",
              "      const progress = document.createElement('progress');\n",
              "      progress.max = size;\n",
              "      div.appendChild(progress);\n",
              "      document.body.appendChild(div);\n",
              "\n",
              "      const buffers = [];\n",
              "      let downloaded = 0;\n",
              "\n",
              "      const channel = await google.colab.kernel.comms.open(id);\n",
              "      // Send a message to notify the kernel that we're ready.\n",
              "      channel.send({})\n",
              "\n",
              "      for await (const message of channel.messages) {\n",
              "        // Send a message to notify the kernel that we're ready.\n",
              "        channel.send({})\n",
              "        if (message.buffers) {\n",
              "          for (const buffer of message.buffers) {\n",
              "            buffers.push(buffer);\n",
              "            downloaded += buffer.byteLength;\n",
              "            progress.value = downloaded;\n",
              "          }\n",
              "        }\n",
              "      }\n",
              "      const blob = new Blob(buffers, {type: 'application/binary'});\n",
              "      const a = document.createElement('a');\n",
              "      a.href = window.URL.createObjectURL(blob);\n",
              "      a.download = filename;\n",
              "      div.appendChild(a);\n",
              "      a.click();\n",
              "      div.remove();\n",
              "    }\n",
              "  "
            ]
          },
          "metadata": {}
        },
        {
          "output_type": "display_data",
          "data": {
            "text/plain": [
              "<IPython.core.display.Javascript object>"
            ],
            "application/javascript": [
              "download(\"download_f49b70a8-d79e-42cd-a6af-f91d54ee5dee\", \"saida.csv\", 1744584)"
            ]
          },
          "metadata": {}
        }
      ]
    }
  ]
}