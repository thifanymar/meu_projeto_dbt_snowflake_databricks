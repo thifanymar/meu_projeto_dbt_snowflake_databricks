{
 "cells": [
  {
   "cell_type": "code",
   "execution_count": 0,
   "metadata": {
    "application/vnd.databricks.v1+cell": {
     "cellMetadata": {
      "byteLimit": 2048000,
      "rowLimit": 10000
     },
     "inputWidgets": {},
     "nuid": "55731849-9fcf-4fd9-bc0b-68a2131ef680",
     "showTitle": false,
     "tableResultSettingsMap": {},
     "title": ""
    }
   },
   "outputs": [],
   "source": [
    "# arquivo roda no databricks\n",
    "\n",
    "from pyspark.sql import SparkSession\n",
    "\n",
    "# 1. Criar a sessão Spark\n",
    "spark = SparkSession.builder \\\n",
    "    .appName(\"Ingestao Raw\") \\\n",
    "    .getOrCreate()\n",
    "\n",
    "# 2. Ler dados da tabela (simulando ingestão raw)\n",
    "df = spark.table(\"datasus.fontes.dados_datasus\")\n",
    "\n",
    "# 3. Mostrar esquema e alguns dados\n",
    "# df.printSchema()\n",
    "# df.show(10, truncate=False)  # False maiúsculo no Python\n",
    "\n",
    "# 4. Não fazer transformações — apenas copiar os dados\n",
    "df_raw = df\n",
    "\n",
    "# 5. Salvar o resultado como tabela Delta (substituindo se já existir)\n",
    "df_raw.write.format(\"delta\") \\\n",
    "    .mode(\"overwrite\") \\\n",
    "    .saveAsTable(\"datasus.datasus.raw_datasus_sih\")\n",
    "\n",
    "# 6. Conferir o resultado\n",
    "# spark.table(\"datasus.bronze.raw_datasus_sih\").show(10, truncate=False)"
   ]
  }
 ],
 "metadata": {
  "application/vnd.databricks.v1+notebook": {
   "computePreferences": null,
   "dashboards": [],
   "environmentMetadata": {
    "base_environment": "",
    "environment_version": "2"
   },
   "inputWidgetPreferences": null,
   "language": "python",
   "notebookMetadata": {
    "pythonIndentUnit": 4
   },
   "notebookName": "extracao-dados",
   "widgets": {}
  },
  "language_info": {
   "name": "python"
  }
 },
 "nbformat": 4,
 "nbformat_minor": 0
}
